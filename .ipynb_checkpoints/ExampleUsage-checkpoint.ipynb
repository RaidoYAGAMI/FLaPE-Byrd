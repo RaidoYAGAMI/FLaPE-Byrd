{
 "cells": [
  {
   "cell_type": "code",
   "execution_count": 1,
   "metadata": {},
   "outputs": [],
   "source": [
    "#notebook to analyze the Sag River Discharge fits\n",
    "#by Mike, January 29, 2021"
   ]
  },
  {
   "cell_type": "code",
   "execution_count": 2,
   "metadata": {},
   "outputs": [],
   "source": [
    "# 1) add FLaPE-Byrd repository location (pulled from github.com/mikedurand/flape-byrd) to the path\n",
    "import sys\n",
    "sys.path.append('/Users/mtd/GitHub/FLaPE-Byrd/') "
   ]
  },
  {
   "cell_type": "code",
   "execution_count": 3,
   "metadata": {},
   "outputs": [
    {
     "ename": "ImportError",
     "evalue": "cannot import name 'FlowLawVariant1' from 'FlowLaws' (/Users/mtd/GitHub/FLaPE-Byrd/FlowLaws.py)",
     "output_type": "error",
     "traceback": [
      "\u001b[0;31m---------------------------------------------------------------------------\u001b[0m",
      "\u001b[0;31mImportError\u001b[0m                               Traceback (most recent call last)",
      "\u001b[0;32m<ipython-input-3-8a17514e1a37>\u001b[0m in \u001b[0;36m<module>\u001b[0;34m\u001b[0m\n\u001b[1;32m      6\u001b[0m \u001b[0;32mfrom\u001b[0m \u001b[0mDomain\u001b[0m \u001b[0;32mimport\u001b[0m \u001b[0mDomain\u001b[0m\u001b[0;34m\u001b[0m\u001b[0;34m\u001b[0m\u001b[0m\n\u001b[1;32m      7\u001b[0m \u001b[0;32mfrom\u001b[0m \u001b[0mpprint\u001b[0m \u001b[0;32mimport\u001b[0m \u001b[0mpprint\u001b[0m\u001b[0;34m\u001b[0m\u001b[0;34m\u001b[0m\u001b[0m\n\u001b[0;32m----> 8\u001b[0;31m \u001b[0;32mfrom\u001b[0m \u001b[0mFlowLaws\u001b[0m \u001b[0;32mimport\u001b[0m \u001b[0mFlowLawVariant1\u001b[0m\u001b[0;34m,\u001b[0m\u001b[0mFlowLawVariant2\u001b[0m\u001b[0;34m\u001b[0m\u001b[0;34m\u001b[0m\u001b[0m\n\u001b[0m",
      "\u001b[0;31mImportError\u001b[0m: cannot import name 'FlowLawVariant1' from 'FlowLaws' (/Users/mtd/GitHub/FLaPE-Byrd/FlowLaws.py)"
     ]
    }
   ],
   "source": [
    "# 2) import needed modules\n",
    "from ReachObservations import ReachObservations\n",
    "from ReachTruth import ReachTruth\n",
    "from RiverIO import RiverIO\n",
    "from FlowLawCalibration import FlowLawCalibration\n",
    "from Domain import Domain\n",
    "from pprint import pprint\n",
    "from FlowLaws import MWACN,MWAPN"
   ]
  },
  {
   "cell_type": "code",
   "execution_count": null,
   "metadata": {},
   "outputs": [],
   "source": [
    "# 3) provide path to reach averaged Sag data, and read data in\n",
    "BaseDir='PepsiSac/'\n",
    "IO=RiverIO('MetroManTxt',obsFname=BaseDir+'SWOTobs.txt',truthFname=BaseDir+'truth.txt')"
   ]
  },
  {
   "cell_type": "code",
   "execution_count": null,
   "metadata": {},
   "outputs": [],
   "source": [
    "# 4) Set up data objects\n",
    "D=Domain(IO.ObsData)\n",
    "Obs=ReachObservations(D,IO.ObsData)\n",
    "Truth=ReachTruth(IO.TruthData)"
   ]
  },
  {
   "cell_type": "code",
   "execution_count": null,
   "metadata": {},
   "outputs": [],
   "source": [
    "# 5) Specify which flow law variants to run\n",
    "Variants=[1, 2]"
   ]
  },
  {
   "cell_type": "code",
   "execution_count": null,
   "metadata": {},
   "outputs": [],
   "source": [
    "# 6) For each reach (usually just one for ArcticDEM) and for each flow law variant, do the calibration calculations\n",
    "Variants=['Constant-n', 'PowerLaw-n']\n",
    "\n",
    "\n",
    "ReachData={} #stash reach data in a dictionary\n",
    "for r in range(0,D.nR):\n",
    "    dA=Obs.dA[r,:]\n",
    "    W=Obs.w[r,:]\n",
    "    S=Obs.S[r,:]\n",
    "    Qtrue=Truth.Q[r,:]\n",
    "    ReachData[r]=[dA,W,S,Qtrue]\n",
    "\n",
    "cals={}\n",
    "for r in range(0,D.nR):    \n",
    "    FlowLawVariants={} #stash flow law variant objects for each reach in a dict       \n",
    "    if 'Constant-n' in Variants:     \n",
    "        FlowLawVariants['Constant-n']=MWACN(ReachData[r][0],ReachData[r][1],ReachData[r][2])\n",
    "        \n",
    "    if 'PowerLaw-n' in Variants:\n",
    "        FlowLawVariants['PowerLaw-n']=MWAPN(ReachData[r][0],ReachData[r][1],ReachData[r][2])\n",
    "       \n",
    "    cal=[]\n",
    "    for variant in FlowLawVariants.keys():               \n",
    "        flow_law_cal=FlowLawCalibration(D,ReachData[r][3],FlowLawVariants[variant])\n",
    "        flow_law_cal.CalibrateReach()\n",
    "        cal.append(flow_law_cal)        \n",
    "    \n",
    "    cals[r]=cal"
   ]
  },
  {
   "cell_type": "code",
   "execution_count": null,
   "metadata": {},
   "outputs": [],
   "source": [
    "# 7 Visualize results: timeseries and scatterplot\n",
    "cals[0][1].PlotTimeseries()\n",
    "cals[0][1].PlotScatterplot()"
   ]
  },
  {
   "cell_type": "code",
   "execution_count": null,
   "metadata": {},
   "outputs": [],
   "source": [
    "# 8 Error metrics\n",
    "cals[0][1].Performance.ShowKeyErrorMetrics()"
   ]
  }
 ],
 "metadata": {
  "kernelspec": {
   "display_name": "Python 3",
   "language": "python",
   "name": "python3"
  },
  "language_info": {
   "codemirror_mode": {
    "name": "ipython",
    "version": 3
   },
   "file_extension": ".py",
   "mimetype": "text/x-python",
   "name": "python",
   "nbconvert_exporter": "python",
   "pygments_lexer": "ipython3",
   "version": "3.8.3"
  }
 },
 "nbformat": 4,
 "nbformat_minor": 4
}
