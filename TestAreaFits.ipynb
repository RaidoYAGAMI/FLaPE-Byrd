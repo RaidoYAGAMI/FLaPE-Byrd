{
 "cells": [
  {
   "cell_type": "markdown",
   "metadata": {},
   "source": [
    "# Notebook to test out three-subdomain HW fits\n",
    "by Mike, 2021\n",
    "\n",
    "Plan is to explore whether having the variable sub-domain fits enabled improves results on the Meade River"
   ]
  },
  {
   "cell_type": "code",
   "execution_count": 1,
   "metadata": {},
   "outputs": [],
   "source": [
    "import os,sys\n",
    "\n",
    "# 1) add FLaPE-Byrd repository location (pulled from github.com/mikedurand/flape-byrd) to the path\n",
    "sys.path.append('/Users/mtd/GitHub/FLaPE-Byrd/') \n",
    "sys.path.append('/Users/mtd/GitHub/SWOT-confluence/offline-discharge-data-product-creation/') \n",
    "\n",
    "# 2) import needed modules\n",
    "from ReachObservations import ReachObservations\n",
    "from ReachTruth import ReachTruth\n",
    "from RiverIO import RiverIO\n",
    "from FlowLawCalibration import FlowLawCalibration\n",
    "from Domain import Domain\n",
    "from pprint import pprint\n",
    "from FlowLaws import MWACN,MWAPN,AHGW,AHGD,MWHCN,MWAVN,MOMMA\n",
    "\n",
    "import pandas as pd\n",
    "import numpy as np\n",
    "\n",
    "from IPython.display import display, Markdown\n",
    "\n",
    "import matplotlib.pyplot as plt\n",
    "\n",
    "from matplotlib import cm\n",
    "from matplotlib.colors import ListedColormap, LinearSegmentedColormap"
   ]
  },
  {
   "cell_type": "code",
   "execution_count": 2,
   "metadata": {},
   "outputs": [],
   "source": [
    "# 3) provide path to data folders and read directory contents\n",
    "\n",
    "DataDir='/Users/mtd/Data/ArcticDEMHydro/reach_averages/'\n",
    "\n",
    "IncludeList=['gage66']\n",
    "RiverNames=['Meade']"
   ]
  },
  {
   "cell_type": "code",
   "execution_count": 3,
   "metadata": {},
   "outputs": [
    {
     "data": {
      "text/markdown": [
       "**Running gage66**"
      ],
      "text/plain": [
       "<IPython.core.display.Markdown object>"
      ]
     },
     "metadata": {},
     "output_type": "display_data"
    },
    {
     "name": "stdout",
     "output_type": "stream",
     "text": [
      "`gtol` termination condition is satisfied.\n",
      "Number of iterations: 54, function evaluations: 308, CG iterations: 78, optimality: 6.55e-09, constraint violation: 7.82e-14, execution time:  0.1 s.\n",
      "height-width fit for set breakpoints\n"
     ]
    },
    {
     "data": {
      "image/png": "[encoded data removed]",
      "text/plain": [
       "<Figure size 432x288 with 1 Axes>"
      ]
     },
     "metadata": {
      "needs_background": "light"
     },
     "output_type": "display_data"
    },
    {
     "name": "stdout",
     "output_type": "stream",
     "text": [
      "{'h_variance': array(0.2371227), 'w_variance': array(147.63268022), 'hw_covariance': array([[159.93540357,   5.54690472],\n",
      "       [  5.54690472,   0.25688292]]), 'med_flow_area': array(0.), 'h_err_stdev': array(0.24866483), 'w_err_stdev': array(10), 'h_w_nobs': array(13), 'fit_coeffs': array([[[  49.76463849],\n",
      "        [  12.86354284],\n",
      "        [  19.01485626]],\n",
      "\n",
      "       [[-153.1433257 ],\n",
      "        [  74.57147822],\n",
      "        [  32.97649781]]]), 'h_break': array([[5.579932  ],\n",
      "       [6.17094967],\n",
      "       [6.76196733],\n",
      "       [7.352985  ]]), 'w_break': array([[0.],\n",
      "       [0.],\n",
      "       [0.],\n",
      "       [0.]])}\n",
      "MetroMan-style area calculations\n"
     ]
    }
   ],
   "source": [
    "DataDirContents=os.scandir(DataDir)\n",
    "\n",
    "ConstrainHW=True #set to true to compute self-constrained height-width data\n",
    "CalcAreaFit=1 # set to 1 for the quicker option - use equally-spaced HW breakpoints\n",
    "dAOpt=0\n",
    "Verbose=True\n",
    "\n",
    "RunData={}\n",
    "\n",
    "for entry in DataDirContents:\n",
    "    if entry.is_dir() and entry.name in IncludeList:        \n",
    "        BaseDir=DataDir + entry.name + '/'\n",
    "        \n",
    "        display(Markdown(\"**Running \"+entry.name+\"**\"))\n",
    "        \n",
    "        IncludeList.index(entry.name)\n",
    "        RiverName=RiverNames[IncludeList.index(entry.name)]        \n",
    "        \n",
    "        #4) Read data and set up data objects\n",
    "        IO=RiverIO('MetroManTxt',obsFname=BaseDir+'SWOTobs.txt',truthFname=BaseDir+'truth.txt')        \n",
    "        D=Domain(IO.ObsData)\n",
    "        Obs=ReachObservations(D,IO.ObsData,ConstrainHW,CalcAreaFit,dAOpt,Verbose)\n",
    "        Truth=ReachTruth(IO.TruthData)\n",
    "                \n",
    "        "
   ]
  },
  {
   "cell_type": "code",
   "execution_count": null,
   "metadata": {},
   "outputs": [],
   "source": []
  }
 ],
 "metadata": {
  "kernelspec": {
   "display_name": "Python 3",
   "language": "python",
   "name": "python3"
  },
  "language_info": {
   "codemirror_mode": {
    "name": "ipython",
    "version": 3
   },
   "file_extension": ".py",
   "mimetype": "text/x-python",
   "name": "python",
   "nbconvert_exporter": "python",
   "pygments_lexer": "ipython3",
   "version": "3.8.3"
  }
 },
 "nbformat": 4,
 "nbformat_minor": 4
}
